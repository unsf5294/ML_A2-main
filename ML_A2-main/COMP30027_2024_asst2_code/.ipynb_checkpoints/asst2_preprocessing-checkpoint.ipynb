{
 "cells": [
  {
   "cell_type": "markdown",
   "id": "6b29bb13-4264-4f35-b587-79737873f7fd",
   "metadata": {},
   "source": [
    "###### ### The University of Melbourne, School of Computing and Information Systems\n",
    "# COMP30027 Machine Learning, 2024 Semester 1\n",
    "\n",
    "## Assignment 2: IMDB Movie Rating Prediction\n"
   ]
  },
  {
   "cell_type": "markdown",
   "id": "a6d470e3-c5c7-4c8d-90d0-2baef57881a3",
   "metadata": {},
   "source": [
    "**Student ID(s):**     `1266382`\n"
   ]
  },
  {
   "cell_type": "markdown",
   "id": "c643271f-3aad-4c19-be6d-b735c09e8fdc",
   "metadata": {},
   "source": [
    "## 0. Data preprocess"
   ]
  },
  {
   "cell_type": "code",
   "execution_count": null,
   "id": "a35b99c1-a41c-432b-bd15-68985b856978",
   "metadata": {},
   "outputs": [],
   "source": [
    "import numpy as np\n",
    "import pandas as pd\n",
    "import matplotlib.pyplot as plt\n"
   ]
  },
  {
   "cell_type": "code",
   "execution_count": null,
   "id": "d12c0255-7b52-4209-a230-3b2b8051d24c",
   "metadata": {},
   "outputs": [],
   "source": [
    "# import datasets\n",
    "train_data = pd.read_csv(\"COMP30027_2024_asst2_data/train_dataset.csv\")\n",
    "test_data = pd.read_csv(\"COMP30027_2024_asst2_data/test_dataset.csv\")\n",
    "\n"
   ]
  }
 ],
 "metadata": {
  "kernelspec": {
   "display_name": "Python 3 (ipykernel)",
   "language": "python",
   "name": "python3"
  },
  "language_info": {
   "codemirror_mode": {
    "name": "ipython",
    "version": 3
   },
   "file_extension": ".py",
   "mimetype": "text/x-python",
   "name": "python",
   "nbconvert_exporter": "python",
   "pygments_lexer": "ipython3",
   "version": "3.11.5"
  }
 },
 "nbformat": 4,
 "nbformat_minor": 5
}
