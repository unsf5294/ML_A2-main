{
 "cells": [
  {
   "cell_type": "markdown",
   "id": "6b29bb13-4264-4f35-b587-79737873f7fd",
   "metadata": {},
   "source": [
    "###### ### The University of Melbourne, School of Computing and Information Systems\n",
    "# COMP30027 Machine Learning, 2024 Semester 1\n",
    "\n",
    "## Assignment 2: IMDB Movie Rating Prediction\n"
   ]
  },
  {
   "cell_type": "markdown",
   "id": "a6d470e3-c5c7-4c8d-90d0-2baef57881a3",
   "metadata": {},
   "source": [
    "**Student ID(s):**     `1266382` `1309191`\n"
   ]
  },
  {
   "cell_type": "markdown",
   "id": "dc3bd4b0-da2e-4a0e-9868-0a2bf7d8aabf",
   "metadata": {},
   "source": [
    "## click ⏩ to run all files"
   ]
  },
  {
   "cell_type": "code",
   "execution_count": 1,
   "id": "a35b99c1-a41c-432b-bd15-68985b856978",
   "metadata": {},
   "outputs": [],
   "source": [
    "# This file is responsible for preprocessing data for models to use\n",
    "%run \"0_data_preprocessing.ipynb\""
   ]
  },
  {
   "cell_type": "code",
   "execution_count": null,
   "id": "270bfefd-7167-4556-a747-fc01f71b1b58",
   "metadata": {},
   "outputs": [],
   "source": [
    "# This file is for K Nearest Neighbor classifier\n",
    "%run \"1_K-NN_classifier.ipynb\""
   ]
  },
  {
   "cell_type": "code",
   "execution_count": null,
   "id": "75c62f02-c016-401d-9d61-bcdc939243ef",
   "metadata": {},
   "outputs": [],
   "source": [
    "# This file is for Support Vector Machine\n",
    "%run \"2_SVM.ipynb\""
   ]
  },
  {
   "cell_type": "code",
   "execution_count": null,
   "id": "04edc6a2-b8e1-45f7-9728-b8e665b773f2",
   "metadata": {},
   "outputs": [],
   "source": [
    "# This file is for Random Forest\n",
    "%run \"3_random_forest.ipynb\""
   ]
  },
  {
   "cell_type": "code",
   "execution_count": null,
   "id": "6cf8955b-ac0f-4e00-9124-919ee8763b1f",
   "metadata": {},
   "outputs": [],
   "source": [
    "# This file is for stacking model using Decision Tree, Logistic Regression and Random Forest\n",
    "%run \"4_stacking_model.ipynb\""
   ]
  },
  {
   "cell_type": "code",
   "execution_count": null,
   "id": "6b70c9bf-47b7-49b9-a7e8-f14d92ca6ef1",
   "metadata": {},
   "outputs": [],
   "source": [
    "# This file is for simple neural networks\n",
    "%run \"5_neural_networks.ipynb\""
   ]
  }
 ],
 "metadata": {
  "kernelspec": {
   "display_name": "Python 3 (ipykernel)",
   "language": "python",
   "name": "python3"
  },
  "language_info": {
   "codemirror_mode": {
    "name": "ipython",
    "version": 3
   },
   "file_extension": ".py",
   "mimetype": "text/x-python",
   "name": "python",
   "nbconvert_exporter": "python",
   "pygments_lexer": "ipython3",
   "version": "3.11.5"
  }
 },
 "nbformat": 4,
 "nbformat_minor": 5
}
